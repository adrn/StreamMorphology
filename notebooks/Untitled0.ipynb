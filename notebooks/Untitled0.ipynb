{
 "metadata": {
  "name": "",
  "signature": "sha256:da1db645d5fba1e0373e27c120659ac76b4d78fc1f38daececdf85c9eead7168"
 },
 "nbformat": 3,
 "nbformat_minor": 0,
 "worksheets": [
  {
   "cells": [
    {
     "cell_type": "code",
     "collapsed": false,
     "input": [
      "for i in range(noribts):\n",
      "    funk(pars, &w[i*ndim], &f[i*ndim + half_ndim]);\n",
      "\n",
      "    for (k=0; k < half_ndim; k++) {\n",
      "        // f[k] = w[k+half_ndim]\n",
      "        f[i*ndim + k] = w[i*ndim + k + half_ndim];\n",
      "        // f[k+half_ndim] = -f[k+half_ndim]\n",
      "        f[i*ndim + k + half_ndim] = -f[i*ndim + k + half_ndim];"
     ],
     "language": "python",
     "metadata": {},
     "outputs": []
    }
   ],
   "metadata": {}
  }
 ]
}