{
 "metadata": {
  "name": "",
  "signature": "sha256:c1bd1f7919425d02c2274a56611e72cad87ba7f0cbe37560da9ffc052ae6470f"
 },
 "nbformat": 3,
 "nbformat_minor": 0,
 "worksheets": [
  {
   "cells": [
    {
     "cell_type": "code",
     "collapsed": false,
     "input": [
      "from __future__ import division, print_function\n",
      "\n",
      "# Third-party\n",
      "import matplotlib.pyplot as plt\n",
      "import numpy as np\n",
      "%matplotlib inline\n",
      "from scipy.integrate import ode\n",
      "\n",
      "# Custom\n",
      "import gary.dynamics as gd\n",
      "import gary.integrate as gi\n",
      "import gary.io as io\n",
      "import gary.potential as gp\n",
      "from gary.units import galactic"
     ],
     "language": "python",
     "metadata": {},
     "outputs": [],
     "prompt_number": 3
    },
    {
     "cell_type": "markdown",
     "metadata": {},
     "source": [
      "First try example from stack overflow"
     ]
    },
    {
     "cell_type": "code",
     "collapsed": false,
     "input": [
      "def logistic(t, y, r):\n",
      "    return r*y*(1.-y)"
     ],
     "language": "python",
     "metadata": {},
     "outputs": [],
     "prompt_number": 19
    },
    {
     "cell_type": "code",
     "collapsed": false,
     "input": [
      "r = 0.01\n",
      "t0 = 0.\n",
      "y0 = 1E-5\n",
      "t1 = 5000."
     ],
     "language": "python",
     "metadata": {},
     "outputs": [],
     "prompt_number": 30
    },
    {
     "cell_type": "code",
     "collapsed": false,
     "input": [
      "solver = ode(logistic).set_integrator('dopri5', nsteps=1)\n",
      "solver.set_initial_value(y0, t0).set_f_params(r)"
     ],
     "language": "python",
     "metadata": {},
     "outputs": [
      {
       "metadata": {},
       "output_type": "pyout",
       "prompt_number": 31,
       "text": [
        "<scipy.integrate._ode.ode at 0x10a2e7550>"
       ]
      }
     ],
     "prompt_number": 31
    },
    {
     "cell_type": "code",
     "collapsed": false,
     "input": [
      "solver._integrator.iwork[2] = -1"
     ],
     "language": "python",
     "metadata": {},
     "outputs": [],
     "prompt_number": 32
    },
    {
     "cell_type": "code",
     "collapsed": false,
     "input": [
      "sol = []\n",
      "while solver.t < t1:\n",
      "    solver.integrate(t1, step=True)\n",
      "    sol.append([solver.t, solver.y])\n",
      "    \n",
      "sol = np.array(sol)"
     ],
     "language": "python",
     "metadata": {},
     "outputs": [],
     "prompt_number": 33
    },
    {
     "cell_type": "code",
     "collapsed": false,
     "input": [
      "plt.plot(sol[:,0], sol[:,1])"
     ],
     "language": "python",
     "metadata": {},
     "outputs": [
      {
       "metadata": {},
       "output_type": "pyout",
       "prompt_number": 34,
       "text": [
        "[<matplotlib.lines.Line2D at 0x10a3b4c10>]"
       ]
      },
      {
       "metadata": {},
       "output_type": "display_data",
       "png": "[encoded data removed]",
       "text": [
        "<matplotlib.figure.Figure at 0x10a2e7290>"
       ]
      }
     ],
     "prompt_number": 34
    },
    {
     "cell_type": "markdown",
     "metadata": {},
     "source": [
      "----"
     ]
    },
    {
     "cell_type": "code",
     "collapsed": false,
     "input": [
      "potential = gp.LeeSutoTriaxialNFWPotential(v_c=0.239225, r_s=30.,\n",
      "                                           a=1., b=0.75, c=0.55,\n",
      "                                           units=galactic)"
     ],
     "language": "python",
     "metadata": {},
     "outputs": [],
     "prompt_number": 77
    },
    {
     "cell_type": "code",
     "collapsed": false,
     "input": [
      "def func(t, w):\n",
      "    return np.hstack((w[...,3:],potential.acceleration(w[...,:3])))\n",
      "\n",
      "# need this to do resizing, and to handle func_args because there is some\n",
      "#   issue with the args stuff in scipy...\n",
      "def func_wrapper(t, x):\n",
      "    _x = x.reshape((nparticles,ndim))\n",
      "    return func(t,_x).reshape((nparticles*ndim,))"
     ],
     "language": "python",
     "metadata": {},
     "outputs": [],
     "prompt_number": 78
    },
    {
     "cell_type": "code",
     "collapsed": false,
     "input": [
      "_ode = ode(func_wrapper, jac=None)\n",
      "_ode = _ode.set_integrator('dop853', nsteps=1, first_step=0.1, atol=1E-16, max_step=5.)"
     ],
     "language": "python",
     "metadata": {},
     "outputs": [],
     "prompt_number": 91
    },
    {
     "cell_type": "code",
     "collapsed": false,
     "input": [
      "w0 = np.array([[10.,0,0,0,0.2,0],\n",
      "               [20.,0,0,0,0.2,0],\n",
      "               [19.57343622,0.,31.10792321,0.,0.13777349,0.]])\n",
      "nparticles,ndim = w0.shape"
     ],
     "language": "python",
     "metadata": {},
     "outputs": [],
     "prompt_number": 92
    },
    {
     "cell_type": "code",
     "collapsed": false,
     "input": [
      "# make 1D\n",
      "_w0 = w0.reshape((nparticles*ndim,))\n",
      "\n",
      "# set the initial conditions\n",
      "_ode.set_initial_value(_w0, 0.)\n",
      "\n",
      "# suppress warning\n",
      "_ode._integrator.iwork[2] = -1\n",
      "\n",
      "ws = [_w0]\n",
      "ts = [0.]\n",
      "\n",
      "# Integrate the ODE(s) across each delta_t timestep\n",
      "t1 = 100000.\n",
      "while _ode.t < t1:\n",
      "    _ode.integrate(t1, step=True)\n",
      "    ts.append(_ode.t)\n",
      "    ws.append(_ode.y)\n",
      "    \n",
      "ts = np.array(ts)\n",
      "ws = np.array(ws)\n",
      "ws = ws.reshape(len(ws),nparticles,ndim)"
     ],
     "language": "python",
     "metadata": {},
     "outputs": [],
     "prompt_number": 93
    },
    {
     "cell_type": "code",
     "collapsed": false,
     "input": [
      "plt.plot(ws[:,2,0])\n",
      "plt.xlim(0,1000)"
     ],
     "language": "python",
     "metadata": {},
     "outputs": [
      {
       "metadata": {},
       "output_type": "pyout",
       "prompt_number": 98,
       "text": [
        "(0, 1000)"
       ]
      },
      {
       "metadata": {},
       "output_type": "display_data",
       "png": "[encoded data removed]",
       "text": [
        "<matplotlib.figure.Figure at 0x10c51c150>"
       ]
      }
     ],
     "prompt_number": 98
    },
    {
     "cell_type": "code",
     "collapsed": false,
     "input": [
      "ts[1:] - ts[:-1]"
     ],
     "language": "python",
     "metadata": {},
     "outputs": [
      {
       "metadata": {},
       "output_type": "pyout",
       "prompt_number": 97,
       "text": [
        "array([  0.7,   8.6,  10. , ...,  10. ,  10. ,   0.7])"
       ]
      }
     ],
     "prompt_number": 97
    }
   ],
   "metadata": {}
  }
 ]
}